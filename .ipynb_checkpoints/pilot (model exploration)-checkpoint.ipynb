{
 "cells": [
  {
   "cell_type": "markdown",
   "metadata": {},
   "source": [
    "# Loading data"
   ]
  },
  {
   "cell_type": "code",
   "execution_count": 2,
   "metadata": {},
   "outputs": [
    {
     "name": "stdout",
     "output_type": "stream",
     "text": [
      "Loading data from existing pkl file ... Loading finished. len(vehicle) = 90\n"
     ]
    }
   ],
   "source": [
    "from utils import DataLoader\n",
    "\n",
    "data_loader = DataLoader('dest_route_pred_sample.csv', delimiter=',')"
   ]
  },
  {
   "cell_type": "code",
   "execution_count": 3,
   "metadata": {
    "collapsed": true
   },
   "outputs": [],
   "source": [
    "# parameters\n",
    "car_id = 0\n",
    "seq_len = 10\n",
    "random_state = 42\n",
    "test_size = 0.3"
   ]
  },
  {
   "cell_type": "code",
   "execution_count": 4,
   "metadata": {
    "collapsed": true
   },
   "outputs": [],
   "source": [
    "# import statements and definitions\n",
    "import numpy as np\n",
    "from matplotlib import pyplot as plt\n",
    "from sklearn.preprocessing import StandardScaler\n",
    "from sklearn.model_selection import train_test_split\n",
    "from sklearn.linear_model import LinearRegression\n",
    "from sklearn.metrics import mean_squared_error\n",
    "\n",
    "% matplotlib inline\n",
    "\n",
    "def visualize_predicted_destination(x, y_true, y_pred):\n",
    "    path = x.reshape(-1, 2)\n",
    "    plt.figure()\n",
    "    plt.scatter(path[:,0], path[:,1], c='b', marker='o') # input seq\n",
    "    plt.scatter(y_true[0], y_true[1], c='b', marker='x') # true dest\n",
    "    plt.scatter(y_pred[0], y_pred[1], c='r', marker='x') # pred dest"
   ]
  },
  {
   "cell_type": "markdown",
   "metadata": {},
   "source": [
    "# Preprocessing data"
   ]
  },
  {
   "cell_type": "code",
   "execution_count": 15,
   "metadata": {},
   "outputs": [
    {
     "data": {
      "text/plain": [
       "((732, 20), (315, 20), (732, 2), (315, 2))"
      ]
     },
     "execution_count": 15,
     "metadata": {},
     "output_type": "execute_result"
    }
   ],
   "source": [
    "# get path list\n",
    "path_instance_list = data_loader.raw_data[car_id]\n",
    "\n",
    "# filter path shorter than seq_len\n",
    "path_list = [path.xy for path in path_instance_list if len(path.xy) >= seq_len + 1]\n",
    "# filter initial points or not\n",
    "path_list = [path[0:] for path in path_list]\n",
    "\n",
    "# get input and dest from path\n",
    "input_list = [path[:seq_len] for path in path_list]\n",
    "dest_list = [path[-1] for path in path_list]\n",
    "\n",
    "# data split\n",
    "x_trn, x_tst, y_trn, y_tst = train_test_split(input_list, dest_list, test_size=0.3, random_state=random_state)\n",
    "\n",
    "# data scaling\n",
    "trn_xy_array = np.concatenate(x_trn)\n",
    "sc = StandardScaler().fit(trn_xy_array)\n",
    "x_trn = [sc.transform(x) for x in x_trn]\n",
    "x_tst = [sc.transform(x) for x in x_tst]\n",
    "y_trn = [sc.transform([y])[0] for y in y_trn]\n",
    "y_tst = [sc.transform([y])[0] for y in y_tst]\n",
    "\n",
    "# transform input xy sequence to feature matrix\n",
    "x_trn = np.concatenate([x.reshape(1, -1) for x in x_trn])\n",
    "x_tst = np.concatenate([x.reshape(1, -1) for x in x_tst])\n",
    "# transform dest xy list to output matrix\n",
    "y_trn, y_tst = np.vstack(y_trn), np.vstack(y_tst)\n",
    "\n",
    "x_trn.shape, x_tst.shape, y_trn.shape, y_tst.shape"
   ]
  },
  {
   "cell_type": "markdown",
   "metadata": {},
   "source": [
    "# Linear Regression (sklearn)"
   ]
  },
  {
   "cell_type": "code",
   "execution_count": 21,
   "metadata": {},
   "outputs": [
    {
     "data": {
      "text/plain": [
       "0.15511332899976515"
      ]
     },
     "execution_count": 21,
     "metadata": {},
     "output_type": "execute_result"
    }
   ],
   "source": [
    "lr = LinearRegression().fit(x_trn, y_trn)\n",
    "y_hat = lr.predict(x_tst)\n",
    "mean_squared_error(y_tst, y_hat)"
   ]
  },
  {
   "cell_type": "code",
   "execution_count": 22,
   "metadata": {},
   "outputs": [
    {
     "data": {
      "image/png": "[encoded data removed]",
      "text/plain": [
       "<matplotlib.figure.Figure at 0x7f0eb4c75160>"
      ]
     },
     "metadata": {},
     "output_type": "display_data"
    },
    {
     "data": {
      "image/png": "[encoded data removed]",
      "text/plain": [
       "<matplotlib.figure.Figure at 0x7f0eb4445588>"
      ]
     },
     "metadata": {},
     "output_type": "display_data"
    },
    {
     "data": {
      "image/png": "[encoded data removed]",
      "text/plain": [
       "<matplotlib.figure.Figure at 0x7f0ec4f284e0>"
      ]
     },
     "metadata": {},
     "output_type": "display_data"
    }
   ],
   "source": [
    "# path_idx = 0\n",
    "for path_idx in range(3):\n",
    "    visualize_predicted_destination(x_tst[path_idx], y_tst[path_idx], y_hat[path_idx])"
   ]
  },
  {
   "cell_type": "code",
   "execution_count": null,
   "metadata": {
    "collapsed": true
   },
   "outputs": [],
   "source": []
  },
  {
   "cell_type": "markdown",
   "metadata": {},
   "source": [
    "# Tensorflow (linear)"
   ]
  },
  {
   "cell_type": "code",
   "execution_count": 23,
   "metadata": {
    "collapsed": true
   },
   "outputs": [],
   "source": [
    "import tensorflow as tf"
   ]
  },
  {
   "cell_type": "code",
   "execution_count": 24,
   "metadata": {},
   "outputs": [
    {
     "name": "stdout",
     "output_type": "stream",
     "text": [
      "test mse---> 0.157737\n"
     ]
    },
    {
     "data": {
      "image/png": "[encoded data removed]",
      "text/plain": [
       "<matplotlib.figure.Figure at 0x7f0ec6d89748>"
      ]
     },
     "metadata": {},
     "output_type": "display_data"
    }
   ],
   "source": [
    "x_input = tf.placeholder(tf.float32, [None, seq_len*2])\n",
    "y_true = tf.placeholder(tf.float32, [None, 2])\n",
    "\n",
    "# model 1 (linear)\n",
    "W = tf.Variable(tf.random_normal([seq_len*2, 2]))\n",
    "b = tf.Variable(tf.zeros([2]))\n",
    "y_pred = tf.matmul(x_input, W) + b\n",
    "\n",
    "mse_loss = tf.losses.mean_squared_error(y_true, y_pred)\n",
    "train_step = tf.train.GradientDescentOptimizer(0.01).minimize(mse_loss)\n",
    "\n",
    "cpu_conf = tf.ConfigProto(\n",
    "    device_count = {'GPU': 0}\n",
    ")\n",
    "sess = tf.Session(config=cpu_conf)\n",
    "tf.global_variables_initializer().run(session=sess)\n",
    "\n",
    "# Train\n",
    "trn_loss_list = []\n",
    "for _ in range(1000):\n",
    "    _, trn_loss = sess.run([train_step, mse_loss], feed_dict={x_input: x_trn, y_true: y_trn})\n",
    "    trn_loss_list.append(trn_loss)\n",
    "\n",
    "plt.plot(range(len(trn_loss_list)), trn_loss_list)\n",
    "plt.title('train loss')\n",
    "\n",
    "# Test trained model\n",
    "tst_loss = sess.run(mse_loss, feed_dict={x_input: x_tst, y_true: y_tst})\n",
    "print('test mse--->', tst_loss)"
   ]
  },
  {
   "cell_type": "markdown",
   "metadata": {},
   "source": [
    "# Tensorflow (1 hidden layer)"
   ]
  },
  {
   "cell_type": "code",
   "execution_count": 25,
   "metadata": {},
   "outputs": [
    {
     "name": "stdout",
     "output_type": "stream",
     "text": [
      "test mse---> 0.15694\n"
     ]
    },
    {
     "data": {
      "image/png": "[encoded data removed]",
      "text/plain": [
       "<matplotlib.figure.Figure at 0x7f0ec6f92438>"
      ]
     },
     "metadata": {},
     "output_type": "display_data"
    }
   ],
   "source": [
    "x_input = tf.placeholder(tf.float32, [None, seq_len*2])\n",
    "y_true = tf.placeholder(tf.float32, [None, 2])\n",
    "\n",
    "# # model 2 (1 hidden)\n",
    "n_hidden = 5\n",
    "W1 = tf.Variable(tf.random_normal([seq_len*2, n_hidden]))\n",
    "b1 = tf.Variable(tf.zeros([n_hidden]))\n",
    "h1 = tf.matmul(x_input, W1) + b1\n",
    "W2 = tf.Variable(tf.random_normal([n_hidden, 2]))\n",
    "b2 = tf.Variable(tf.zeros([2]))\n",
    "y_pred = tf.matmul(h1, W2) + b2\n",
    "\n",
    "mse_loss = tf.losses.mean_squared_error(y_true, y_pred)\n",
    "train_step = tf.train.GradientDescentOptimizer(0.01).minimize(mse_loss)\n",
    "\n",
    "cpu_conf = tf.ConfigProto(\n",
    "    device_count = {'GPU': 0}\n",
    ")\n",
    "sess = tf.Session(config=cpu_conf)\n",
    "tf.global_variables_initializer().run(session=sess)\n",
    "\n",
    "# Train\n",
    "trn_loss_list = []\n",
    "for _ in range(1000):\n",
    "    _, trn_loss = sess.run([train_step, mse_loss], feed_dict={x_input: x_trn, y_true: y_trn})\n",
    "    trn_loss_list.append(trn_loss)\n",
    "\n",
    "plt.plot(range(len(trn_loss_list)), trn_loss_list)\n",
    "plt.title('train loss')\n",
    "\n",
    "# Test trained model\n",
    "tst_loss = sess.run(mse_loss, feed_dict={x_input: x_tst, y_true: y_tst})\n",
    "print('test mse--->', tst_loss)"
   ]
  },
  {
   "cell_type": "markdown",
   "metadata": {},
   "source": [
    "# Tensorflow (2 hidden layer)"
   ]
  },
  {
   "cell_type": "code",
   "execution_count": 26,
   "metadata": {},
   "outputs": [
    {
     "name": "stdout",
     "output_type": "stream",
     "text": [
      "test mse---> nan\n"
     ]
    },
    {
     "data": {
      "image/png": "[encoded data removed]",
      "text/plain": [
       "<matplotlib.figure.Figure at 0x7f0ec7480550>"
      ]
     },
     "metadata": {},
     "output_type": "display_data"
    }
   ],
   "source": [
    "x_input = tf.placeholder(tf.float32, [None, seq_len*2])\n",
    "y_true = tf.placeholder(tf.float32, [None, 2])\n",
    "\n",
    "# model 3 (2 hidden)\n",
    "n_hidden1, n_hidden2 = 5, 3\n",
    "W1 = tf.Variable(tf.random_normal([seq_len*2, n_hidden1]))\n",
    "b1 = tf.Variable(tf.zeros([n_hidden1]))\n",
    "h1 = tf.matmul(x_input, W1) + b1\n",
    "W2 = tf.Variable(tf.random_normal([n_hidden1, n_hidden2]))\n",
    "b2 = tf.Variable(tf.zeros([n_hidden2]))\n",
    "h2 = tf.matmul(h1, W2) + b2\n",
    "W3 = tf.Variable(tf.random_normal([n_hidden2, 2]))\n",
    "b3 = tf.Variable(tf.zeros([2]))\n",
    "y_pred = tf.matmul(h2, W3) + b3\n",
    "\n",
    "mse_loss = tf.losses.mean_squared_error(y_true, y_pred)\n",
    "train_step = tf.train.GradientDescentOptimizer(0.01).minimize(mse_loss)\n",
    "\n",
    "cpu_conf = tf.ConfigProto(\n",
    "    device_count = {'GPU': 0}\n",
    ")\n",
    "sess = tf.Session(config=cpu_conf)\n",
    "tf.global_variables_initializer().run(session=sess)\n",
    "\n",
    "# Train\n",
    "trn_loss_list = []\n",
    "for _ in range(1000):\n",
    "    _, trn_loss = sess.run([train_step, mse_loss], feed_dict={x_input: x_trn, y_true: y_trn})\n",
    "    trn_loss_list.append(trn_loss)\n",
    "\n",
    "plt.plot(range(len(trn_loss_list)), trn_loss_list)\n",
    "plt.title('train loss')\n",
    "\n",
    "# Test trained model\n",
    "tst_loss = sess.run(mse_loss, feed_dict={x_input: x_tst, y_true: y_tst})\n",
    "print('test mse--->', tst_loss)"
   ]
  },
  {
   "cell_type": "markdown",
   "metadata": {},
   "source": [
    "# Tensorflow (RNN)"
   ]
  },
  {
   "cell_type": "code",
   "execution_count": 27,
   "metadata": {
    "collapsed": true
   },
   "outputs": [],
   "source": [
    "from tensorflow.contrib import rnn"
   ]
  },
  {
   "cell_type": "code",
   "execution_count": 28,
   "metadata": {
    "collapsed": true
   },
   "outputs": [],
   "source": [
    "tf.reset_default_graph()"
   ]
  },
  {
   "cell_type": "code",
   "execution_count": 29,
   "metadata": {
    "scrolled": true
   },
   "outputs": [
    {
     "name": "stdout",
     "output_type": "stream",
     "text": [
      "test mse---> 0.103964\n"
     ]
    },
    {
     "data": {
      "image/png": "[encoded data removed]",
      "text/plain": [
       "<matplotlib.figure.Figure at 0x7f0ec7212ba8>"
      ]
     },
     "metadata": {},
     "output_type": "display_data"
    }
   ],
   "source": [
    "x_input = tf.placeholder(tf.float32, [None, seq_len*2])\n",
    "y_true = tf.placeholder(tf.float32, [None, 2])\n",
    "\n",
    "# RNN\n",
    "hidden_dim = 16\n",
    "rnn_cell = rnn.BasicRNNCell(hidden_dim)\n",
    "rnn_input = tf.unstack(tf.reshape(x_input, shape=[-1, seq_len, 2]), axis=1)\n",
    "outputs, _ = rnn.static_rnn(rnn_cell, rnn_input, dtype=tf.float32)\n",
    "W = tf.Variable(tf.random_normal([hidden_dim, 2]))\n",
    "b = tf.Variable(tf.zeros([2]))\n",
    "y_pred = tf.matmul(outputs[-1], W) + b\n",
    "\n",
    "mse_loss = tf.losses.mean_squared_error(y_true, y_pred)\n",
    "train_step = tf.train.GradientDescentOptimizer(0.01).minimize(mse_loss)\n",
    "\n",
    "cpu_conf = tf.ConfigProto(\n",
    "    device_count = {'GPU': 0}\n",
    ")\n",
    "sess = tf.Session(config=cpu_conf)\n",
    "tf.global_variables_initializer().run(session=sess)\n",
    "\n",
    "# Train\n",
    "trn_loss_list = []\n",
    "for _ in range(1000):\n",
    "    _, trn_loss = sess.run([train_step, mse_loss], feed_dict={x_input: x_trn, y_true: y_trn})\n",
    "    trn_loss_list.append(trn_loss)\n",
    "\n",
    "plt.plot(range(len(trn_loss_list)), trn_loss_list)\n",
    "plt.title('train loss')\n",
    "\n",
    "# Test trained model\n",
    "tst_loss = sess.run(mse_loss, feed_dict={x_input: x_tst, y_true: y_tst})\n",
    "print('test mse--->', tst_loss)"
   ]
  },
  {
   "cell_type": "code",
   "execution_count": 34,
   "metadata": {},
   "outputs": [
    {
     "data": {
      "image/png": "[encoded data removed]",
      "text/plain": [
       "<matplotlib.figure.Figure at 0x7f0eb6b10ac8>"
      ]
     },
     "metadata": {},
     "output_type": "display_data"
    },
    {
     "data": {
      "image/png": "[encoded data removed]",
      "text/plain": [
       "<matplotlib.figure.Figure at 0x7f0e9a2cae80>"
      ]
     },
     "metadata": {},
     "output_type": "display_data"
    },
    {
     "data": {
      "image/png": "[encoded data removed]",
      "text/plain": [
       "<matplotlib.figure.Figure at 0x7f0e99ba9dd8>"
      ]
     },
     "metadata": {},
     "output_type": "display_data"
    }
   ],
   "source": [
    "y_hat_rnn = sess.run(y_pred, feed_dict={x_input: x_tst})\n",
    "for path_idx in range(3):\n",
    "    visualize_predicted_destination(x_tst[path_idx], y_tst[path_idx], y_hat_rnn[path_idx])"
   ]
  },
  {
   "cell_type": "markdown",
   "metadata": {},
   "source": [
    "# Tensorflow (LSTM)"
   ]
  },
  {
   "cell_type": "code",
   "execution_count": 30,
   "metadata": {
    "collapsed": true
   },
   "outputs": [],
   "source": [
    "tf.reset_default_graph()"
   ]
  },
  {
   "cell_type": "code",
   "execution_count": 31,
   "metadata": {},
   "outputs": [
    {
     "name": "stdout",
     "output_type": "stream",
     "text": [
      "test mse---> 0.122469\n"
     ]
    },
    {
     "data": {
      "image/png": "[encoded data removed]",
      "text/plain": [
       "<matplotlib.figure.Figure at 0x7f0ea17a42b0>"
      ]
     },
     "metadata": {},
     "output_type": "display_data"
    }
   ],
   "source": [
    "x_input = tf.placeholder(tf.float32, [None, seq_len*2])\n",
    "y_true = tf.placeholder(tf.float32, [None, 2])\n",
    "\n",
    "# LSTM\n",
    "hidden_dim = 16\n",
    "lstm_cell = rnn.BasicLSTMCell(hidden_dim)\n",
    "lstm_input = tf.unstack(tf.reshape(x_input, shape=[-1, seq_len, 2]), axis=1)\n",
    "outputs, _ = rnn.static_rnn(lstm_cell, lstm_input, dtype=tf.float32)\n",
    "W = tf.Variable(tf.random_normal([hidden_dim, 2]))\n",
    "b = tf.Variable(tf.zeros([2]))\n",
    "y_pred = tf.matmul(outputs[-1], W) + b\n",
    "\n",
    "mse_loss = tf.losses.mean_squared_error(y_true, y_pred)\n",
    "train_step = tf.train.GradientDescentOptimizer(0.01).minimize(mse_loss)\n",
    "\n",
    "cpu_conf = tf.ConfigProto(\n",
    "    device_count = {'GPU': 0}\n",
    ")\n",
    "sess = tf.Session(config=cpu_conf)\n",
    "tf.global_variables_initializer().run(session=sess)\n",
    "\n",
    "# Train\n",
    "trn_loss_list = []\n",
    "for _ in range(1000):\n",
    "    _, trn_loss = sess.run([train_step, mse_loss], feed_dict={x_input: x_trn, y_true: y_trn})\n",
    "    trn_loss_list.append(trn_loss)\n",
    "\n",
    "plt.plot(range(len(trn_loss_list)), trn_loss_list)\n",
    "plt.title('train loss')\n",
    "\n",
    "# Test trained model\n",
    "tst_loss = sess.run(mse_loss, feed_dict={x_input: x_tst, y_true: y_tst})\n",
    "print('test mse--->', tst_loss)"
   ]
  },
  {
   "cell_type": "markdown",
   "metadata": {},
   "source": [
    "# Tensorflow (Bi-LSTM)"
   ]
  },
  {
   "cell_type": "code",
   "execution_count": 32,
   "metadata": {
    "collapsed": true
   },
   "outputs": [],
   "source": [
    "tf.reset_default_graph()"
   ]
  },
  {
   "cell_type": "code",
   "execution_count": 33,
   "metadata": {},
   "outputs": [
    {
     "name": "stdout",
     "output_type": "stream",
     "text": [
      "test mse---> 0.127917\n"
     ]
    },
    {
     "data": {
      "image/png": "[encoded data removed]",
      "text/plain": [
       "<matplotlib.figure.Figure at 0x7f0e9ed31a90>"
      ]
     },
     "metadata": {},
     "output_type": "display_data"
    }
   ],
   "source": [
    "x_input = tf.placeholder(tf.float32, [None, seq_len*2])\n",
    "y_true = tf.placeholder(tf.float32, [None, 2])\n",
    "\n",
    "# Bi-LSTM\n",
    "hidden_dim = 16\n",
    "lstm_cell = rnn.BasicLSTMCell(hidden_dim/2)\n",
    "lstm_input = tf.unstack(tf.reshape(x_input, shape=[-1, seq_len, 2]), axis=1)\n",
    "outputs, _, _ = rnn.static_bidirectional_rnn(lstm_cell, lstm_cell, lstm_input, dtype=tf.float32)\n",
    "W = tf.Variable(tf.random_normal([hidden_dim, 2]))\n",
    "b = tf.Variable(tf.zeros([2]))\n",
    "y_pred = tf.matmul(outputs[-1], W) + b\n",
    "\n",
    "mse_loss = tf.losses.mean_squared_error(y_true, y_pred)\n",
    "train_step = tf.train.GradientDescentOptimizer(0.01).minimize(mse_loss)\n",
    "\n",
    "cpu_conf = tf.ConfigProto(\n",
    "    device_count = {'GPU': 0}\n",
    ")\n",
    "sess = tf.Session(config=cpu_conf)\n",
    "tf.global_variables_initializer().run(session=sess)\n",
    "\n",
    "# Train\n",
    "trn_loss_list = []\n",
    "for _ in range(1000):\n",
    "    _, trn_loss = sess.run([train_step, mse_loss], feed_dict={x_input: x_trn, y_true: y_trn})\n",
    "    trn_loss_list.append(trn_loss)\n",
    "\n",
    "plt.plot(range(len(trn_loss_list)), trn_loss_list)\n",
    "plt.title('train loss')\n",
    "\n",
    "# Test trained model\n",
    "tst_loss = sess.run(mse_loss, feed_dict={x_input: x_tst, y_true: y_tst})\n",
    "print('test mse--->', tst_loss)"
   ]
  },
  {
   "cell_type": "code",
   "execution_count": null,
   "metadata": {
    "collapsed": true
   },
   "outputs": [],
   "source": []
  }
 ],
 "metadata": {
  "kernelspec": {
   "display_name": "Python 3",
   "language": "python",
   "name": "python3"
  },
  "language_info": {
   "codemirror_mode": {
    "name": "ipython",
    "version": 3
   },
   "file_extension": ".py",
   "mimetype": "text/x-python",
   "name": "python",
   "nbconvert_exporter": "python",
   "pygments_lexer": "ipython3",
   "version": "3.6.2"
  }
 },
 "nbformat": 4,
 "nbformat_minor": 2
}
